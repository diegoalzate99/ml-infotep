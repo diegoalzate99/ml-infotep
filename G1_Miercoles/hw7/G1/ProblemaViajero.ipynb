{
  "nbformat": 4,
  "nbformat_minor": 0,
  "metadata": {
    "colab": {
      "provenance": []
    },
    "kernelspec": {
      "name": "python3",
      "display_name": "Python 3"
    },
    "language_info": {
      "name": "python"
    }
  },
  "cells": [
    {
      "cell_type": "code",
      "execution_count": 2,
      "metadata": {
        "colab": {
          "base_uri": "https://localhost:8080/"
        },
        "id": "rrFvI3Zxegdy",
        "outputId": "b473508b-d101-41a3-c67a-a2290d232d98"
      },
      "outputs": [
        {
          "output_type": "stream",
          "name": "stdout",
          "text": [
            "Mejor ruta: [0, 1, 3, 2] con costo mínimo: 80\n"
          ]
        }
      ],
      "source": [
        "# Matriz de distancias entre ciudades (4 ciudades)\n",
        "distancias = [\n",
        "  # |0| |1| |2| |3|\n",
        "    [0, 10, 15, 20], # |0|\n",
        "    [10, 0, 35, 25], # |1|\n",
        "    [15, 35, 0, 30], # |2|\n",
        "    [20, 25, 30, 0]  # |3|\n",
        "]\n",
        "\n",
        "num_ciudades = len(distancias)\n",
        "\n",
        "# Generacion de permutaciones (Posibles rutas)\n",
        "def permutaciones(lista):\n",
        "    if len(lista) == 1:\n",
        "        return [lista]\n",
        "\n",
        "    perms = []\n",
        "    for i in range(len(lista)):\n",
        "        resto = lista[:i] + lista[i+1:]\n",
        "        for p in permutaciones(resto):\n",
        "            perms.append([lista[i]] + p)\n",
        "    return perms\n",
        "\n",
        "ciudades = list(range(num_ciudades))\n",
        "mejor_ruta = None\n",
        "mejor_costo = float(\"inf\")\n",
        "\n",
        "# Evaluar todas las rutas posibles (Permutaciones)\n",
        "for perm in permutaciones(ciudades):\n",
        "    costo = 0\n",
        "    for i in range(len(perm) - 1):\n",
        "        costo += distancias[perm[i]][perm[i+1]]\n",
        "    costo += distancias[perm[-1]][perm[0]]  # Regresar al origen\n",
        "\n",
        "    if costo < mejor_costo:\n",
        "        mejor_costo = costo\n",
        "        mejor_ruta = perm\n",
        "\n",
        "print(f\"Mejor ruta: {mejor_ruta} con costo mínimo: {mejor_costo}\")"
      ]
    }
  ]
}