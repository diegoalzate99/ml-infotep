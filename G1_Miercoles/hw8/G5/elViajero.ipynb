{
  "cells": [
    {
      "cell_type": "markdown",
      "metadata": {},
      "source": [
        "Se uso IA, como sugirio en clase. Pidio que usaramos IA y que lo comprendieramos de tal manera que lo explicaramos en la siguiente clase."
      ]
    },
    {
      "cell_type": "code",
      "execution_count": null,
      "metadata": {
        "colab": {
          "base_uri": "https://localhost:8080/"
        },
        "id": "zQ4LieIeQAof",
        "outputId": "ac3fecf5-b988-4603-e0d5-3cac2f8e8ef9"
      },
      "outputs": [
        {
          "name": "stdout",
          "output_type": "stream",
          "text": [
            "Mejor ruta: [0, 3, 4, 1, 2]\n",
            "Distancia total: 20.448909199308726\n"
          ]
        }
      ],
      "source": [
        "import random\n",
        "import math\n",
        "\n",
        "# === DATOS INICIALES ===\n",
        "\n",
        "# Ciudades representadas como coordenadas (x, y)\n",
        "ciudades = [\n",
        "    (0, 0),  # ciudad 0\n",
        "    (1, 5),  # ciudad 1\n",
        "    (2, 3),  # ciudad 2\n",
        "    (5, 2),  # ciudad 3\n",
        "    (6, 6),  # ciudad 4\n",
        "]\n",
        "\n",
        "# === FUNCIONES DEL ALGORITMO GENÉTICO ===\n",
        "\n",
        "# Calcular la distancia entre dos ciudades\n",
        "def distancia(ciudad1, ciudad2):\n",
        "    x1, y1 = ciudad1\n",
        "    x2, y2 = ciudad2\n",
        "    return math.sqrt((x2 - x1)**2 + (y2 - y1)**2) #distancia eeuclidiana\n",
        "\n",
        "# Calcular el total de una ruta\n",
        "def calcular_distancia_total(ruta):\n",
        "    total = 0\n",
        "    for i in range(len(ruta)):\n",
        "        ciudad_actual = ciudades[ruta[i]]\n",
        "        ciudad_siguiente = ciudades[ruta[(i + 1) % len(ruta)]]\n",
        "        total += distancia(ciudad_actual, ciudad_siguiente)\n",
        "    return total\n",
        "\n",
        "# Crear una ruta aleatoria\n",
        "def crear_ruta():\n",
        "    ruta = list(range(len(ciudades)))\n",
        "    random.shuffle(ruta)\n",
        "    return ruta\n",
        "\n",
        "# Crear una población inicial\n",
        "def crear_poblacion(tamano):\n",
        "    return [crear_ruta() for _ in range(tamano)]\n",
        "\n",
        "# Evaluar fitness (a menor distancia, mejor)\n",
        "def calcular_fitness(ruta):\n",
        "    return 1 / calcular_distancia_total(ruta)\n",
        "\n",
        "# Seleccionar dos padres (torneo simple)\n",
        "def seleccionar_padres(poblacion):\n",
        "    torneo = random.sample(poblacion, 3)\n",
        "    torneo.sort(key=lambda r: calcular_distancia_total(r))\n",
        "    return torneo[0], torneo[1]\n",
        "\n",
        "# Cruzamiento de orden (Order Crossover OX)\n",
        "def cruzar(padre1, padre2):\n",
        "    inicio = random.randint(0, len(padre1) - 2)\n",
        "    fin = random.randint(inicio + 1, len(padre1) - 1)\n",
        "\n",
        "    hijo = [-1] * len(padre1)\n",
        "    hijo[inicio:fin] = padre1[inicio:fin]\n",
        "\n",
        "    p2_index = 0\n",
        "    for i in range(len(hijo)):\n",
        "        if hijo[i] == -1:\n",
        "            while padre2[p2_index] in hijo:\n",
        "                p2_index += 1\n",
        "            hijo[i] = padre2[p2_index]\n",
        "    return hijo\n",
        "\n",
        "# Mutación: intercambiar dos ciudades\n",
        "def mutar(ruta, probabilidad=0.1):\n",
        "    for i in range(len(ruta)):\n",
        "        if random.random() < probabilidad:\n",
        "            j = random.randint(0, len(ruta) - 1)\n",
        "            ruta[i], ruta[j] = ruta[j], ruta[i]\n",
        "    return ruta\n",
        "\n",
        "# Crear nueva generación\n",
        "def nueva_generacion(poblacion):\n",
        "    nueva_pob = []\n",
        "    for _ in range(len(poblacion)):\n",
        "        padre1, padre2 = seleccionar_padres(poblacion)\n",
        "        hijo = cruzar(padre1, padre2)\n",
        "        hijo = mutar(hijo)\n",
        "        nueva_pob.append(hijo)\n",
        "    return nueva_pob\n",
        "\n",
        "# === EJECUCIÓN DEL ALGORITMO ===\n",
        "\n",
        "# Parámetros\n",
        "tamano_poblacion = 10\n",
        "num_generaciones = 100\n",
        "\n",
        "# Crear población inicial\n",
        "poblacion = crear_poblacion(tamano_poblacion)\n",
        "\n",
        "# Evolución\n",
        "for generacion in range(num_generaciones):\n",
        "    poblacion = nueva_generacion(poblacion)\n",
        "\n",
        "# Mostrar mejor ruta\n",
        "mejor_ruta = min(poblacion, key=calcular_distancia_total)\n",
        "print(\"Mejor ruta:\", mejor_ruta)\n",
        "print(\"Distancia total:\", calcular_distancia_total(mejor_ruta))"
      ]
    }
  ],
  "metadata": {
    "colab": {
      "provenance": []
    },
    "kernelspec": {
      "display_name": "Python 3",
      "name": "python3"
    },
    "language_info": {
      "name": "python"
    }
  },
  "nbformat": 4,
  "nbformat_minor": 0
}
