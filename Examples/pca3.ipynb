{
  "nbformat": 4,
  "nbformat_minor": 0,
  "metadata": {
    "colab": {
      "provenance": []
    },
    "kernelspec": {
      "name": "python3",
      "display_name": "Python 3"
    },
    "language_info": {
      "name": "python"
    }
  },
  "cells": [
    {
      "cell_type": "markdown",
      "source": [
        "# **Aprendizaje no supervisado**\n",
        "\n",
        "## **Análisis de Componenetes Principales - Identificación de la dirección de objetos**\n",
        "\n",
        "**Docente:** PhD Jorge Rudas\n",
        "\n",
        "**Diseño de prototipos - 2025 I**\n",
        "\n",
        "**INFOTEP**"
      ],
      "metadata": {
        "id": "bw0_M2YuF2n3"
      }
    },
    {
      "cell_type": "code",
      "source": [
        "import numpy as np\n",
        "import cv2\n",
        "import requests\n",
        "from IPython.display import Image\n",
        "from google.colab.patches import cv2_imshow\n",
        "from math import atan2, cos, sin, sqrt, pi\n",
        "from io import BytesIO\n",
        "import matplotlib.pyplot as plt\n"
      ],
      "metadata": {
        "id": "ysMDkANY_bPG"
      },
      "execution_count": 79,
      "outputs": []
    },
    {
      "cell_type": "markdown",
      "source": [
        "# Renderizamos la imágen de referencia"
      ],
      "metadata": {
        "id": "g69AfcQbGHH0"
      }
    },
    {
      "cell_type": "code",
      "source": [
        "image_path = 'https://img.freepik.com/vector-premium/dibujo-flecha-negra-negrita_687236-952.jpg'\n",
        "Image(url=image_path)\n"
      ],
      "metadata": {
        "colab": {
          "base_uri": "https://localhost:8080/",
          "height": 335
        },
        "id": "tepNqXag_Mam",
        "outputId": "181168ce-df90-4407-fc25-4f447921c6d1"
      },
      "execution_count": 80,
      "outputs": [
        {
          "output_type": "execute_result",
          "data": {
            "text/html": [
              "<img src=\"https://img.freepik.com/vector-premium/dibujo-flecha-negra-negrita_687236-952.jpg\"/>"
            ],
            "text/plain": [
              "<IPython.core.display.Image object>"
            ]
          },
          "metadata": {},
          "execution_count": 80
        }
      ]
    },
    {
      "cell_type": "markdown",
      "source": [
        "# Se utiliza algoritmo de Otsu para convertir en blanco y negro"
      ],
      "metadata": {
        "id": "2mdthDJ1GScU"
      }
    },
    {
      "cell_type": "code",
      "source": [
        "response = requests.get(image_path, stream=True)\n",
        "response.raise_for_status()\n",
        "\n",
        "image = np.asarray(bytearray(response.content), dtype=\"uint8\")\n",
        "image = cv2.imdecode(image, cv2.IMREAD_COLOR)\n",
        "\n",
        "gray_image = cv2.cvtColor(image, cv2.COLOR_BGR2GRAY)\n",
        "_, bw = cv2.threshold(gray_image, 50, 255, cv2.THRESH_BINARY | cv2.THRESH_OTSU)"
      ],
      "metadata": {
        "id": "LQM1whSvGRB7"
      },
      "execution_count": 81,
      "outputs": []
    },
    {
      "cell_type": "code",
      "source": [
        "cv2_imshow(bw)\n"
      ],
      "metadata": {
        "colab": {
          "base_uri": "https://localhost:8080/",
          "height": 330
        },
        "id": "own5pA2vA5kU",
        "outputId": "389e1176-d357-4b3e-de68-6b579c412772"
      },
      "execution_count": 82,
      "outputs": [
        {
          "output_type": "display_data",
          "data": {
            "text/plain": [
              "<PIL.Image.Image image mode=L size=626x313>"
            ],
            "image/png": "[encoded data removed]",
            "image/jpeg": "[encoded data removed]"
          },
          "metadata": {}
        }
      ]
    },
    {
      "cell_type": "markdown",
      "source": [
        "# Identificación automatica de contornos en la imagen"
      ],
      "metadata": {
        "id": "6NfazLswGbOj"
      }
    },
    {
      "cell_type": "code",
      "source": [
        "contours, _ = cv2.findContours(bw, cv2.RETR_LIST, cv2.CHAIN_APPROX_NONE)"
      ],
      "metadata": {
        "id": "WsHNY7REBFhJ"
      },
      "execution_count": 83,
      "outputs": []
    },
    {
      "cell_type": "markdown",
      "source": [
        "# Funciones para obtener la orientación de cada contorno usando PCA y función para dibujar las orientaciones para cada contorno"
      ],
      "metadata": {
        "id": "0qFxdWiFGpvm"
      }
    },
    {
      "cell_type": "code",
      "source": [
        "def get_orientation(pts, img):\n",
        "    sz = len(pts)\n",
        "    data_pts = np.empty((sz, 2), dtype=np.float64)\n",
        "\n",
        "    for i in range(data_pts.shape[0]):\n",
        "        data_pts[i,0] = pts[i,0,0]\n",
        "        data_pts[i,1] = pts[i,0,1]\n",
        "\n",
        "    mean = np.empty((0))\n",
        "    mean, eigenvectors, eigenvalues = cv2.PCACompute2(data_pts, mean)\n",
        "\n",
        "    cntr = (int(mean[0,0]), int(mean[0,1]))\n",
        "    cv2.circle(img, cntr, 3, (255, 0, 255), 2)\n",
        "    p1 = (cntr[0] + 0.01 * eigenvectors[0,0] * eigenvalues[0,0], cntr[1] + 0.01 *  eigenvectors[0,1] * eigenvalues[0,0])\n",
        "    p2 = (cntr[0] - 0.01 * eigenvectors[1,0] * eigenvalues[1,0], cntr[1] - 0.01 * eigenvectors[1,1] * eigenvalues[1,0])\n",
        "    draw_axis(img, cntr, p1, (0, 150, 0), 1)\n",
        "    draw_axis(img, cntr, p2, (200, 150, 0), 5)\n",
        "    angle = atan2(eigenvectors[0,1], eigenvectors[0,0])\n",
        "\n",
        "    return angle, img\n",
        "\n",
        "def draw_axis(img, p_, q_, colour, scale):\n",
        "    p = list(p_)\n",
        "    q = list(q_)\n",
        "    angle = atan2(p[1] - q[1], p[0] - q[0])\n",
        "    hypotenuse = sqrt((p[1] - q[1]) * (p[1] - q[1]) + (p[0] - q[0]) * (p[0] - q[0]))\n",
        "\n",
        "    q[0] = p[0] - scale * hypotenuse * cos(angle)\n",
        "    q[1] = p[1] - scale * hypotenuse * sin(angle)\n",
        "    cv2.line(img, (int(p[0]), int(p[1])), (int(q[0]), int(q[1])), colour, 1, cv2.LINE_AA)\n",
        "    p[0] = q[0] + 9 * cos(angle + pi / 4)\n",
        "    p[1] = q[1] + 9 * sin(angle + pi / 4)\n",
        "    cv2.line(img, (int(p[0]), int(p[1])), (int(q[0]), int(q[1])), colour, 1, cv2.LINE_AA)\n",
        "    p[0] = q[0] + 9 * cos(angle - pi / 4)\n",
        "    p[1] = q[1] + 9 * sin(angle - pi / 4)\n",
        "    cv2.line(img, (int(p[0]), int(p[1])), (int(q[0]), int(q[1])), colour, 1, cv2.LINE_AA)"
      ],
      "metadata": {
        "id": "Fzvn2kESBIR5"
      },
      "execution_count": 84,
      "outputs": []
    },
    {
      "cell_type": "markdown",
      "source": [
        "# Para cada contorno se calcula el area y se descarta contornos pequeños, se dibuja los contornos y las orientaciones sobre la imagen."
      ],
      "metadata": {
        "id": "zX1Xwrp-G3W3"
      }
    },
    {
      "cell_type": "code",
      "source": [
        "for i,c in enumerate(contours):\n",
        "  area = cv2.contourArea(c)\n",
        "\n",
        "  if area < 1e3 or 1e5 < area:\n",
        "    continue\n",
        "\n",
        "  print(i)\n",
        "  print(area)\n",
        "\n",
        "  a = cv2.drawContours(image, contours, i, (0, 0, 255), 2)\n",
        "  b, a = get_orientation(c,image)\n",
        "\n",
        "plt.imshow(cv2.cvtColor(a, cv2.COLOR_BGR2RGB))\n",
        "plt.show()"
      ],
      "metadata": {
        "colab": {
          "base_uri": "https://localhost:8080/",
          "height": 348
        },
        "id": "MPKQHGPuBbo3",
        "outputId": "eea6e6a8-e867-4c92-b445-8c9ea6ed55e4"
      },
      "execution_count": 85,
      "outputs": [
        {
          "output_type": "stream",
          "name": "stdout",
          "text": [
            "0\n",
            "20944.0\n"
          ]
        },
        {
          "output_type": "display_data",
          "data": {
            "text/plain": [
              "<Figure size 640x480 with 1 Axes>"
            ],
            "image/png": "[encoded data removed]"
          },
          "metadata": {}
        }
      ]
    },
    {
      "cell_type": "markdown",
      "source": [
        "## **Taller grupal**"
      ],
      "metadata": {
        "id": "-8E6PSTGHVnD"
      }
    },
    {
      "cell_type": "code",
      "source": [
        "image_path2 = 'https://img.freepik.com/vector-gratis/flechas-finas-gruesas_78370-343.jpg'"
      ],
      "metadata": {
        "id": "hIaZjzEiBe5v"
      },
      "execution_count": 86,
      "outputs": []
    },
    {
      "cell_type": "markdown",
      "source": [
        "* Pruebe la anterior implementación con la imagen de image_path2\n",
        "\n",
        "* Enumere cada objeto y determine para cada objeto, con cuales otros objetos de la escena puede existir colisión."
      ],
      "metadata": {
        "id": "cdxaqv9ZHi2t"
      }
    }
  ]
}